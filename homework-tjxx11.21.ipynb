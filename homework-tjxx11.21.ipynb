{
 "cells": [
  {
   "cell_type": "markdown",
   "id": "9ff026a4-79c0-48f4-87c4-47e936afdcf0",
   "metadata": {},
   "source": [
    "# 数据的预处理及划分"
   ]
  },
  {
   "cell_type": "code",
   "execution_count": 18,
   "id": "e05bcd45-4db9-4306-b39b-9e7feb0c14f0",
   "metadata": {},
   "outputs": [],
   "source": [
    "import os\n",
    "import cv2\n",
    "import numpy as np\n",
    "from sklearn.model_selection import train_test_split\n",
    "from sklearn.preprocessing import LabelEncoder\n",
    "\n",
    "input_folder = \"/Users/andywong/dataset/Dataset_BUSI_with_GT/\"\n",
    "data = []\n",
    "labels = []\n",
    "\n",
    "for category in [\"benign\", \"malignant\", \"normal\"]:\n",
    "    category_input_path = os.path.join(input_folder, category)\n",
    "\n",
    "    # 遍历类别文件夹中的图片\n",
    "    for filename in os.listdir(category_input_path):\n",
    "        file_path = os.path.join(category_input_path, filename)\n",
    "        \n",
    "        # 忽略包含 \"_mask\" 的图片\n",
    "        if \"_mask\" not in filename:\n",
    "            image = cv2.imread(file_path)\n",
    "            \n",
    "            if image is None: continue\n",
    "\n",
    "            # 转为灰度图\n",
    "            gray_image = cv2.cvtColor(image, cv2.COLOR_BGR2GRAY)\n",
    "\n",
    "            # 调整大小\n",
    "            resized_image = cv2.resize(gray_image, (256, 256))\n",
    "\n",
    "            # 将图像展平为一维向量\n",
    "            flattened_image = resized_image.flatten()\n",
    "            \n",
    "            data.append(flattened_image)\n",
    "            labels.append(category)\n",
    "\n",
    "data = np.array(data)\n",
    "labels = np.array(labels)\n",
    "\n",
    "# 标签编码为数字\n",
    "label_encoder = LabelEncoder()\n",
    "labels = label_encoder.fit_transform(labels)\n",
    "\n",
    "# 划分数据集\n",
    "X_train, X_test, y_train, y_test = train_test_split(data, labels, test_size=0.2, random_state=42)"
   ]
  },
  {
   "cell_type": "markdown",
   "id": "d121492f-3e17-4184-b9a4-d99d5d7d7a18",
   "metadata": {},
   "source": [
    "# 模型的训练"
   ]
  },
  {
   "cell_type": "code",
   "execution_count": 19,
   "id": "63cc903c-197d-4bca-a029-4014c0a9815a",
   "metadata": {},
   "outputs": [
    {
     "name": "stdout",
     "output_type": "stream",
     "text": [
      "Model: Decision Tree\n",
      "              precision    recall  f1-score   support\n",
      "\n",
      "      benign       0.53      0.55      0.54        84\n",
      "   malignant       0.38      0.35      0.36        43\n",
      "      normal       0.17      0.17      0.17        29\n",
      "\n",
      "    accuracy                           0.42       156\n",
      "   macro avg       0.36      0.36      0.36       156\n",
      "weighted avg       0.42      0.42      0.42       156\n",
      "\n",
      "--------------------------------------------------\n",
      "Model: Random Forest\n",
      "              precision    recall  f1-score   support\n",
      "\n",
      "      benign       0.62      0.94      0.75        84\n",
      "   malignant       0.74      0.40      0.52        43\n",
      "      normal       0.80      0.14      0.24        29\n",
      "\n",
      "    accuracy                           0.64       156\n",
      "   macro avg       0.72      0.49      0.50       156\n",
      "weighted avg       0.68      0.64      0.59       156\n",
      "\n",
      "--------------------------------------------------\n"
     ]
    },
    {
     "name": "stderr",
     "output_type": "stream",
     "text": [
      "/opt/anaconda3/envs/pytorch/lib/python3.12/site-packages/sklearn/ensemble/_weight_boosting.py:527: FutureWarning: The SAMME.R algorithm (the default) is deprecated and will be removed in 1.6. Use the SAMME algorithm to circumvent this warning.\n",
      "  warnings.warn(\n"
     ]
    },
    {
     "name": "stdout",
     "output_type": "stream",
     "text": [
      "Model: AdaBoost\n",
      "              precision    recall  f1-score   support\n",
      "\n",
      "      benign       0.60      0.92      0.72        84\n",
      "   malignant       0.88      0.33      0.47        43\n",
      "      normal       0.55      0.21      0.30        29\n",
      "\n",
      "    accuracy                           0.62       156\n",
      "   macro avg       0.67      0.48      0.50       156\n",
      "weighted avg       0.66      0.62      0.58       156\n",
      "\n",
      "--------------------------------------------------\n"
     ]
    }
   ],
   "source": [
    "from sklearn.ensemble import RandomForestClassifier, AdaBoostClassifier\n",
    "from sklearn.tree import DecisionTreeClassifier\n",
    "from sklearn.metrics import classification_report\n",
    "# 选择分类模型：决策树，随机森林，AdaBoost\n",
    "models = {\n",
    "    \"Decision Tree\": DecisionTreeClassifier(),\n",
    "    \"Random Forest\": RandomForestClassifier(),\n",
    "    \"AdaBoost\": AdaBoostClassifier()\n",
    "}\n",
    "\n",
    "# 训练并评估每个模型\n",
    "for model_name, model in models.items():\n",
    "    model.fit(X_train, y_train)\n",
    "    y_pred = model.predict(X_test)\n",
    "    \n",
    "    # 输出分类报告\n",
    "    print(f\"Model: {model_name}\")\n",
    "    print(classification_report(y_test, y_pred, target_names=label_encoder.classes_))\n",
    "    print(\"-\" * 50)"
   ]
  },
  {
   "cell_type": "markdown",
   "id": "630fee01-8407-46e4-9c01-1f486fc62959",
   "metadata": {},
   "source": [
    "# 超参数调优"
   ]
  },
  {
   "cell_type": "code",
   "execution_count": null,
   "id": "c98f3dc9-a82c-40b3-91d1-ded645b957da",
   "metadata": {},
   "outputs": [],
   "source": [
    "from sklearn.model_selection import RandomizedSearchCV, train_test_split\n",
    "from sklearn.metrics import classification_report\n",
    "from scipy.stats import randint\n",
    "\n",
    "# 超参数搜索空间\n",
    "param_dist = {\n",
    "    \"Decision Tree\": {\n",
    "        'max_depth': randint(1, 20),\n",
    "        'min_samples_split': randint(2, 20),\n",
    "        'min_samples_leaf': randint(1, 20),\n",
    "        'max_features': ['auto', 'sqrt', 'log2']\n",
    "    },\n",
    "    \"Random Forest\": {\n",
    "        'n_estimators': randint(100, 500),\n",
    "        'max_depth': randint(10, 50),\n",
    "        'max_features': ['auto', 'sqrt', 'log2'],\n",
    "        'class_weight': [None, 'balanced']\n",
    "    },\n",
    "    \"AdaBoost\": {\n",
    "        'n_estimators': randint(50, 200),\n",
    "        'learning_rate': [0.01, 0.1, 0.5, 1.0]\n",
    "    }\n",
    "}\n",
    "\n",
    "for model_name, model in models.items():\n",
    "    print(f\"Hyperparameter tuning for {model_name}...\")\n",
    "    \n",
    "    # 搜索最优参数\n",
    "    random_search = RandomizedSearchCV(estimator=model, param_distributions=param_dist[model_name], \n",
    "                                       n_iter=50, cv=5, scoring='accuracy', random_state=42, n_jobs=-1)\n",
    "    random_search.fit(X_train, y_train)\n",
    "    \n",
    "    print(f\"Best Parameters for {model_name}: {random_search.best_params_}\")\n",
    "    print(f\"Best Score for {model_name}: {random_search.best_score_}\")\n",
    "\n",
    "    best_model = random_search.best_estimator_\n",
    "    y_pred = best_model.predict(X_test)\n",
    "    print(f\"Classification report for {model_name}:\\n{classification_report(y_test, y_pred)}\")\n",
    "    print(\"-\" * 50)"
   ]
  }
 ],
 "metadata": {
  "kernelspec": {
   "display_name": "Python 3 (ipykernel)",
   "language": "python",
   "name": "python3"
  },
  "language_info": {
   "codemirror_mode": {
    "name": "ipython",
    "version": 3
   },
   "file_extension": ".py",
   "mimetype": "text/x-python",
   "name": "python",
   "nbconvert_exporter": "python",
   "pygments_lexer": "ipython3",
   "version": "3.12.2"
  }
 },
 "nbformat": 4,
 "nbformat_minor": 5
}
