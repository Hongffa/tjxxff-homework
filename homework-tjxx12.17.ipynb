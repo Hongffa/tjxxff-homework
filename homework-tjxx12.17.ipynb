{
 "cells": [
  {
   "cell_type": "code",
   "execution_count": 17,
   "id": "c46ed517-d635-4d3f-b29a-399281a97792",
   "metadata": {},
   "outputs": [
    {
     "name": "stderr",
     "output_type": "stream",
     "text": [
      "Loading pipeline components...: 100%|█████████████| 7/7 [00:00<00:00, 16.06it/s]\n"
     ]
    },
    {
     "name": "stdout",
     "output_type": "stream",
     "text": [
      "Running with guidance_scale=7.5 and steps=20\n"
     ]
    },
    {
     "name": "stderr",
     "output_type": "stream",
     "text": [
      "100%|███████████████████████████████████████████| 20/20 [00:32<00:00,  1.63s/it]\n"
     ]
    },
    {
     "name": "stdout",
     "output_type": "stream",
     "text": [
      "Saved: output_image_r1.png\n",
      "Running with guidance_scale=8.0 and steps=25\n"
     ]
    },
    {
     "name": "stderr",
     "output_type": "stream",
     "text": [
      "100%|███████████████████████████████████████████| 25/25 [00:33<00:00,  1.35s/it]\n"
     ]
    },
    {
     "name": "stdout",
     "output_type": "stream",
     "text": [
      "Saved: output_image_r2.png\n",
      "Running with guidance_scale=10.0 and steps=30\n"
     ]
    },
    {
     "name": "stderr",
     "output_type": "stream",
     "text": [
      "100%|███████████████████████████████████████████| 30/30 [00:41<00:00,  1.37s/it]\n"
     ]
    },
    {
     "name": "stdout",
     "output_type": "stream",
     "text": [
      "Saved: output_image_r3.png\n"
     ]
    }
   ],
   "source": [
    "from diffusers import StableDiffusionPipeline\n",
    "import torch\n",
    "\n",
    "pipe = StableDiffusionPipeline.from_pretrained(\"runwayml/stable-diffusion-v1-5\")\n",
    "pipe = pipe.to(\"mps\")\n",
    "\n",
    "prompt = \"A chicken standing next to a basketball on the ground\"\n",
    "\n",
    "# 参数配置列表：不同的 guidance_scale 和 num_inference_steps 组合\n",
    "parameters = [\n",
    "    {\"guidance_scale\": 7.5, \"num_inference_steps\": 20},\n",
    "    {\"guidance_scale\": 8.0, \"num_inference_steps\": 25},\n",
    "    {\"guidance_scale\": 10.0, \"num_inference_steps\": 30},\n",
    "]\n",
    "\n",
    "generator = torch.Generator(device=\"mps\").manual_seed(42)\n",
    "\n",
    "for idx, params in enumerate(parameters):\n",
    "    print(f\"Running with guidance_scale={params['guidance_scale']} and steps={params['num_inference_steps']}\")\n",
    "    image = pipe(\n",
    "        prompt, \n",
    "        guidance_scale=params[\"guidance_scale\"], \n",
    "        num_inference_steps=params[\"num_inference_steps\"],\n",
    "        generator=generator\n",
    "    ).images[0]\n",
    "    \n",
    "    image_name = f\"output_image_r{idx+1}.png\"\n",
    "    image.save(image_name)\n",
    "    print(f\"Saved: {image_name}\")\n",
    "    image.show()"
   ]
  },
  {
   "cell_type": "code",
   "execution_count": null,
   "id": "532c2f11-9393-4dd9-b13c-9417fd351818",
   "metadata": {},
   "outputs": [],
   "source": []
  }
 ],
 "metadata": {
  "kernelspec": {
   "display_name": "Python 3 (ipykernel)",
   "language": "python",
   "name": "python3"
  },
  "language_info": {
   "codemirror_mode": {
    "name": "ipython",
    "version": 3
   },
   "file_extension": ".py",
   "mimetype": "text/x-python",
   "name": "python",
   "nbconvert_exporter": "python",
   "pygments_lexer": "ipython3",
   "version": "3.12.2"
  }
 },
 "nbformat": 4,
 "nbformat_minor": 5
}
